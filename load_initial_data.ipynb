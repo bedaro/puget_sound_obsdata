{
 "cells": [
  {
   "cell_type": "markdown",
   "id": "22eb411d-e8a6-4179-b67b-3b27e7045c0e",
   "metadata": {},
   "source": [
    "# load_initial_data\n",
    "\n",
    "This notebook is meant to be run right after the database is first created. Right now, all it does is populate the `parameters` table using data from the parameters.csv file."
   ]
  },
  {
   "cell_type": "code",
   "execution_count": 1,
   "id": "569bd439-c0e0-44af-93a9-094d313b49df",
   "metadata": {},
   "outputs": [],
   "source": [
    "import pandas as pd\n",
    "import db"
   ]
  },
  {
   "cell_type": "code",
   "execution_count": 2,
   "id": "0e843934-3e7d-4b6a-bfcd-07573eedc1e5",
   "metadata": {},
   "outputs": [
    {
     "data": {
      "text/html": [
       "<div>\n",
       "<style scoped>\n",
       "    .dataframe tbody tr th:only-of-type {\n",
       "        vertical-align: middle;\n",
       "    }\n",
       "\n",
       "    .dataframe tbody tr th {\n",
       "        vertical-align: top;\n",
       "    }\n",
       "\n",
       "    .dataframe thead th {\n",
       "        text-align: right;\n",
       "    }\n",
       "</style>\n",
       "<table border=\"1\" class=\"dataframe\">\n",
       "  <thead>\n",
       "    <tr style=\"text-align: right;\">\n",
       "      <th></th>\n",
       "      <th>name</th>\n",
       "      <th>unit</th>\n",
       "    </tr>\n",
       "    <tr>\n",
       "      <th>key</th>\n",
       "      <th></th>\n",
       "      <th></th>\n",
       "    </tr>\n",
       "  </thead>\n",
       "  <tbody>\n",
       "    <tr>\n",
       "      <th>temp</th>\n",
       "      <td>Temperature</td>\n",
       "      <td>deg_c</td>\n",
       "    </tr>\n",
       "    <tr>\n",
       "      <th>salt</th>\n",
       "      <td>Salinity</td>\n",
       "      <td>psu</td>\n",
       "    </tr>\n",
       "    <tr>\n",
       "      <th>o2</th>\n",
       "      <td>Dissolved Oxygen</td>\n",
       "      <td>mgl</td>\n",
       "    </tr>\n",
       "    <tr>\n",
       "      <th>nh4</th>\n",
       "      <td>Ammonia</td>\n",
       "      <td>umol</td>\n",
       "    </tr>\n",
       "    <tr>\n",
       "      <th>no3</th>\n",
       "      <td>Nitrate</td>\n",
       "      <td>umol</td>\n",
       "    </tr>\n",
       "    <tr>\n",
       "      <th>no2</th>\n",
       "      <td>Nitrite</td>\n",
       "      <td>umol</td>\n",
       "    </tr>\n",
       "    <tr>\n",
       "      <th>no23</th>\n",
       "      <td>Nitrate+Nitrite</td>\n",
       "      <td>umol</td>\n",
       "    </tr>\n",
       "    <tr>\n",
       "      <th>chla</th>\n",
       "      <td>Chlorophyll-A</td>\n",
       "      <td>ugl</td>\n",
       "    </tr>\n",
       "    <tr>\n",
       "      <th>ph</th>\n",
       "      <td>pH</td>\n",
       "      <td>ph</td>\n",
       "    </tr>\n",
       "    <tr>\n",
       "      <th>po4</th>\n",
       "      <td>Phosphate, dissolved</td>\n",
       "      <td>umol</td>\n",
       "    </tr>\n",
       "    <tr>\n",
       "      <th>orthp</th>\n",
       "      <td>Ortho-Phosphate</td>\n",
       "      <td>umol</td>\n",
       "    </tr>\n",
       "    <tr>\n",
       "      <th>tp</th>\n",
       "      <td>Total Phosphorus</td>\n",
       "      <td>umol</td>\n",
       "    </tr>\n",
       "    <tr>\n",
       "      <th>sioh4</th>\n",
       "      <td>Silicate, dissolved</td>\n",
       "      <td>umol</td>\n",
       "    </tr>\n",
       "  </tbody>\n",
       "</table>\n",
       "</div>"
      ],
      "text/plain": [
       "                       name   unit\n",
       "key                               \n",
       "temp            Temperature  deg_c\n",
       "salt               Salinity    psu\n",
       "o2         Dissolved Oxygen    mgl\n",
       "nh4                 Ammonia   umol\n",
       "no3                 Nitrate   umol\n",
       "no2                 Nitrite   umol\n",
       "no23        Nitrate+Nitrite   umol\n",
       "chla          Chlorophyll-A    ugl\n",
       "ph                       pH     ph\n",
       "po4    Phosphate, dissolved   umol\n",
       "orthp       Ortho-Phosphate   umol\n",
       "tp         Total Phosphorus   umol\n",
       "sioh4   Silicate, dissolved   umol"
      ]
     },
     "execution_count": 2,
     "metadata": {},
     "output_type": "execute_result"
    }
   ],
   "source": [
    "parameters = pd.read_csv('parameters.csv', index_col=[0])\n",
    "parameters"
   ]
  },
  {
   "cell_type": "code",
   "execution_count": 3,
   "id": "3acd5c52-73e9-4fed-a636-6722c6fed500",
   "metadata": {},
   "outputs": [
    {
     "data": {
      "text/plain": [
       "13"
      ]
     },
     "execution_count": 3,
     "metadata": {},
     "output_type": "execute_result"
    }
   ],
   "source": [
    "engine = db.connect()\n",
    "parameters.to_sql('parameters', con=engine, schema='obsdata', index_label=\"key\", if_exists='append')"
   ]
  },
  {
   "cell_type": "code",
   "execution_count": null,
   "id": "2e4b35ad-75da-4e65-ad41-e92a9f4c9906",
   "metadata": {},
   "outputs": [],
   "source": []
  }
 ],
 "metadata": {
  "kernelspec": {
   "display_name": "Python [conda env:puget_sound_obs_data]",
   "language": "python",
   "name": "conda-env-puget_sound_obs_data-py"
  },
  "language_info": {
   "codemirror_mode": {
    "name": "ipython",
    "version": 3
   },
   "file_extension": ".py",
   "mimetype": "text/x-python",
   "name": "python",
   "nbconvert_exporter": "python",
   "pygments_lexer": "ipython3",
   "version": "3.10.4"
  }
 },
 "nbformat": 4,
 "nbformat_minor": 5
}
